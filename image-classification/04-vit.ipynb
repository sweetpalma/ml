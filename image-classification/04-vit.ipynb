{
 "cells": [
  {
   "cell_type": "markdown",
   "id": "2131bc14-cefa-456f-b914-9d4bbdfac3cc",
   "metadata": {
    "editable": true,
    "slideshow": {
     "slide_type": ""
    },
    "tags": []
   },
   "source": [
    "# Transfer Learning (Visual Transformers)\n",
    "\n",
    "In our [previous experiment](./03-efficientnet.ipynb), we successfully used transfer learning to push our accuracy to a remarkable 92%. We *borrowed* the \"eyes\" of a model trained on a massive dataset and taught it to see our specific CIFAR-10 classes. But what if we could teach a machine to look at an image less like a grid of pixels and more like... a sentence?\n",
    "\n",
    "This is where the **vision transformer** architecture comes in. \n",
    "\n",
    "It represents a radical shift from the convolutional approach we've used so far. Instead of sliding small filters across an image to find local patterns, ViT breaks an image into a series of patches and treats them like words in a sequence. Then, it applies the same powerful self-attention mechanism to understand the relationships between different parts of the image, no matter how far apart they are."
   ]
  },
  {
   "cell_type": "markdown",
   "id": "df2a66b0-6db9-4ea7-87e9-e4dfa98ec945",
   "metadata": {},
   "source": [
    "## Data Preparation\n",
    "\n",
    "We are going to use the same CIFAR-10 dataset, but this time, to make the training faster on this much larger model, we'll only use a 35% subset of the training data. Let's see if a more powerful model can achieve more with less data."
   ]
  },
  {
   "cell_type": "code",
   "execution_count": 1,
   "id": "f920fe1a-227d-4c35-bd54-3bbbf8e83e9e",
   "metadata": {},
   "outputs": [
    {
     "name": "stdout",
     "output_type": "stream",
     "text": [
      "Training samples: 17500\n"
     ]
    }
   ],
   "source": [
    "from datasets import load_dataset\n",
    "train, test = load_dataset('uoft-cs/cifar10', split=['train[:35%]', 'test'])\n",
    "class_names = train.features['label'].names\n",
    "print(f'Training samples: {len(train)}')"
   ]
  },
  {
   "cell_type": "markdown",
   "id": "3d67cba0-6b5e-4c45-a1a3-5861eb27064d",
   "metadata": {},
   "source": [
    "Just like in our [previous attempt](./03-efficientnet.ipynb), we must preprocess our data first. But unlike a CNN, a transformer, born to process text, doesn't think in terms of pixels. It thinks in terms of tokens in a sequence. \n",
    "\n",
    "So how do we make an image look like a sentence?\n",
    "\n",
    "The answer is to slice it! The vision transformer preprocessor breaks the input image into a grid of fixed-size patches (e.g., 16x16 pixels), and then treats them as a sequence of patches. This sequence of patches is what the model actually \"reads\". To handle this requirement, we must use the specific image processor that comes with the desired model."
   ]
  },
  {
   "cell_type": "code",
   "execution_count": 2,
   "id": "bc7a7ff6-9844-4ea1-aac3-7492f3abd2ed",
   "metadata": {},
   "outputs": [],
   "source": [
    "from transformers import ViTImageProcessor\n",
    "processor = ViTImageProcessor.from_pretrained('google/vit-base-patch16-224')\n",
    "\n",
    "def process(data):\n",
    "    processed_data = processor(data['img'], return_tensors='tf')\n",
    "    return dict(pixel_values=processed_data['pixel_values'], label=data['label'])"
   ]
  },
  {
   "cell_type": "markdown",
   "id": "3174c09b-381d-45e2-a8bb-459044ee65dc",
   "metadata": {},
   "source": [
    "Our models are getting bigger and bigger, and so is the data they need. CIFAR10 is still a reasonably sized dataset, but if we try to load and process a really big one, we may easily run out of available system memory.\n",
    "\n",
    "To solve this, we'll create a more efficient input pipeline. Think of it as a conveyor belt - it takes our raw dataset, pulls out small batches of images, applies our process function on the fly, and feeds these batches directly to the GPU. This is far more efficient and is standard practice for training large models."
   ]
  },
  {
   "cell_type": "code",
   "execution_count": 3,
   "id": "ef66a048-922b-4385-9a9e-30337cfc7a34",
   "metadata": {},
   "outputs": [],
   "source": [
    "train, validation = train.train_test_split(0.2, seed=0).values()\n",
    "\n",
    "def create_input_pipeline(ds):\n",
    "    return ds.with_transform(process).to_tf_dataset(\n",
    "        columns='pixel_values', \n",
    "        label_cols='label',\n",
    "        batch_size=32,\n",
    "    )\n",
    "\n",
    "train_data = create_input_pipeline(train)\n",
    "validation_data = create_input_pipeline(validation)\n",
    "test_data = create_input_pipeline(test)"
   ]
  },
  {
   "cell_type": "markdown",
   "id": "04fa4adf-b555-460c-9f0a-604e04c35296",
   "metadata": {},
   "source": [
    "## Building and Training the Model\n",
    "\n",
    "Here's where things get interesting. \n",
    "\n",
    "While convoluted neural networks (like VGG or EfficientNet) learn by sliding filters across an image to build up a hierarchy of features (edges, textures, shapes), the vision transformer architecture takes a completely different route.\n",
    "\n",
    "The key idea behind ViT is the **self-attention** mechanism. \n",
    "\n",
    "For every single patch of the image, it weighs the importance of every other patch to understand its context. A patch representing a cat's ear can directly \"pay attention\" to a patch representing its tail, no matter how far apart they are. This gives the model a powerful, holistic understanding of the *entire* image.\n",
    "\n",
    "For this experiment, we might use a pre-trained model called `google/vit-base-patch16-224`. The name tells us it's a base-sized model that breaks images into 16x16 patches and was originally trained on 224x224 images."
   ]
  },
  {
   "cell_type": "code",
   "execution_count": 4,
   "id": "a2863da1-a32a-4726-975a-fef32359f1ca",
   "metadata": {},
   "outputs": [
    {
     "name": "stdout",
     "output_type": "stream",
     "text": [
      "env: TF_USE_LEGACY_KERAS=1\n"
     ]
    }
   ],
   "source": [
    "%env TF_USE_LEGACY_KERAS=1\n",
    "from transformers import TFViTForImageClassification as ViTForImageClassification\n",
    "from transformers import logging, set_seed\n",
    "\n",
    "logging.set_verbosity_error()\n",
    "set_seed(0)\n",
    "\n",
    "model = ViTForImageClassification.from_pretrained(\n",
    "    'google/vit-base-patch16-224',\n",
    "    num_labels=len(class_names),\n",
    "    ignore_mismatched_sizes=True\n",
    ")"
   ]
  },
  {
   "cell_type": "markdown",
   "id": "ecd8cdd9-032c-4ac5-acea-e3b97de5bec5",
   "metadata": {},
   "source": [
    "By setting `ignore_mismatched_sizes=True`, we tell the model to discard its original classification head (which was trained on a different number of classes) and allow us to attach our own, ready to be trained on CIFAR-10. \n",
    "\n",
    "Next, we need an optimization routine. We might borrow one from our previous transformer attempt - that shows how similar those models are despite being used for a completely different task. \n",
    "\n",
    "The only change we need to make is to slightly change the training step calculation formula - we might exclude the batch size and validation split from the equation, because we already handled them during our dataset creation."
   ]
  },
  {
   "cell_type": "code",
   "execution_count": 5,
   "id": "11b35016-fe57-434d-b8e2-35a128670519",
   "metadata": {
    "scrolled": true
   },
   "outputs": [],
   "source": [
    "from transformers import create_optimizer\n",
    "\n",
    "epochs = 2\n",
    "num_train_steps = len(train_data) * epochs\n",
    "\n",
    "optimizer, _ = create_optimizer(\n",
    "    init_lr=0.00002,\n",
    "    weight_decay_rate=0.01,\n",
    "    num_warmup_steps=int(num_train_steps * 0.1),\n",
    "    num_train_steps=num_train_steps\n",
    ")"
   ]
  },
  {
   "cell_type": "markdown",
   "id": "5c3b94ab-4b90-42f7-890e-cc2c0c1fff03",
   "metadata": {},
   "source": [
    "We may train our model now."
   ]
  },
  {
   "cell_type": "code",
   "execution_count": 6,
   "id": "ed9c9d8c-2a52-45a1-ae08-0af3c0611afb",
   "metadata": {
    "editable": true,
    "scrolled": true,
    "slideshow": {
     "slide_type": ""
    },
    "tags": []
   },
   "outputs": [
    {
     "name": "stdout",
     "output_type": "stream",
     "text": [
      "Epoch 1/2\n",
      "438/438 [==============================] - 1310s 3s/step - loss: 0.5451 - accuracy: 0.8607 - val_loss: 0.0914 - val_accuracy: 0.9791\n",
      "Epoch 2/2\n",
      "438/438 [==============================] - 1305s 3s/step - loss: 0.0477 - accuracy: 0.9914 - val_loss: 0.0622 - val_accuracy: 0.9843\n"
     ]
    }
   ],
   "source": [
    "from tensorflow import device\n",
    "with device('/GPU'):\n",
    "    model.compile(optimizer=optimizer, metrics=['accuracy'])\n",
    "    history = model.fit(train_data, epochs=epochs, validation_data=validation_data)"
   ]
  },
  {
   "cell_type": "code",
   "execution_count": 7,
   "id": "4e7f9576-c901-4d3c-996b-949615469b87",
   "metadata": {},
   "outputs": [
    {
     "data": {
      "image/png": "[encoded data removed]",
      "text/plain": [
       "<Figure size 450x300 with 1 Axes>"
      ]
     },
     "metadata": {},
     "output_type": "display_data"
    }
   ],
   "source": [
    "import matplotlib.pyplot as plt\n",
    "plt.figure(figsize=(4.5, 3))\n",
    "plt.plot(history.history['accuracy'], label='train')\n",
    "plt.plot(history.history['val_accuracy'], label='validation')\n",
    "plt.ylabel('accuracy')\n",
    "plt.xlabel('epoch')\n",
    "plt.legend(loc='lower right')\n",
    "plt.show()"
   ]
  },
  {
   "cell_type": "markdown",
   "id": "4f8a38b2-37de-4a27-bc9b-3ac902070a47",
   "metadata": {},
   "source": [
    "## Result"
   ]
  },
  {
   "cell_type": "code",
   "execution_count": 8,
   "id": "92d09396-add4-48e3-a691-159a0de5e676",
   "metadata": {},
   "outputs": [
    {
     "name": "stdout",
     "output_type": "stream",
     "text": [
      "313/313 [==============================] - 270s 854ms/step\n",
      "              precision    recall  f1-score   support\n",
      "\n",
      "    airplane       0.98      0.98      0.98      1000\n",
      "  automobile       0.98      0.98      0.98      1000\n",
      "        bird       0.99      0.98      0.99      1000\n",
      "         cat       0.95      0.95      0.95      1000\n",
      "        deer       0.98      0.98      0.98      1000\n",
      "         dog       0.96      0.96      0.96      1000\n",
      "        frog       0.99      0.99      0.99      1000\n",
      "       horse       0.99      0.99      0.99      1000\n",
      "        ship       0.98      0.99      0.99      1000\n",
      "       truck       0.97      0.97      0.97      1000\n",
      "\n",
      "    accuracy                           0.98     10000\n",
      "   macro avg       0.98      0.98      0.98     10000\n",
      "weighted avg       0.98      0.98      0.98     10000\n",
      "\n"
     ]
    }
   ],
   "source": [
    "import numpy as np\n",
    "from sklearn.metrics import classification_report\n",
    "with device('/GPU'):\n",
    "    y_pred_logits = model.predict(test_data).logits\n",
    "    y_pred_labels = np.argmax(y_pred_logits, axis=1)\n",
    "    y_true_labels = [example['label'] for example in test]\n",
    "    print(classification_report(y_true_labels, y_pred_labels, target_names=class_names))"
   ]
  },
  {
   "cell_type": "code",
   "execution_count": 10,
   "id": "6485d6cc-c82c-4f1e-a7de-4368fee270bb",
   "metadata": {
    "editable": true,
    "slideshow": {
     "slide_type": ""
    },
    "tags": []
   },
   "outputs": [
    {
     "data": {
      "text/plain": [
       "<sklearn.metrics._plot.confusion_matrix.ConfusionMatrixDisplay at 0x3a15dc730>"
      ]
     },
     "execution_count": 10,
     "metadata": {},
     "output_type": "execute_result"
    },
    {
     "data": {
      "image/png": "[encoded data removed]",
      "text/plain": [
       "<Figure size 350x350 with 2 Axes>"
      ]
     },
     "metadata": {},
     "output_type": "display_data"
    }
   ],
   "source": [
    "from sklearn.metrics import ConfusionMatrixDisplay\n",
    "import matplotlib.pyplot as plt\n",
    "_, ax = plt.subplots(1, 1, figsize=(3.5, 3.5))\n",
    "ConfusionMatrixDisplay.from_predictions(\n",
    "    y_true_labels, \n",
    "    y_pred_labels, \n",
    "    display_labels=class_names, \n",
    "    normalize='pred',\n",
    "    xticks_rotation='vertical',\n",
    "    include_values=False, \n",
    "    ax=ax\n",
    ")"
   ]
  },
  {
   "cell_type": "markdown",
   "id": "d12b6e82-9848-4486-a086-6045afadf568",
   "metadata": {
    "editable": true,
    "slideshow": {
     "slide_type": ""
    },
    "tags": []
   },
   "source": [
    "## Conclusion\n",
    "\n",
    "The result is nothing short of incredible - after just two epochs of tuning on a *subset* of the data, we've achieved a stunning **98%** accuracy. This is a massive leap, and it powerfully demonstrates the power of modern transformer archirectures.\n",
    "\n",
    "The training curves are also beautiful, showing rapid learning and near-perfect convergence between training and validation sets, indicating a model that generalises data very well.\n",
    "\n",
    "This journey — from a simple CNN struggling with a moderate accuracy to a fine-tuned transformer reaching near-human performance — showcases the incredible progress in computer vision. It clearly shows us that often the biggest gains come not just from tuning, but from the complete paradigm shift - to the one that fundamentally *thinks* about the problem in a much more effective way."
   ]
  }
 ],
 "metadata": {
  "kernelspec": {
   "display_name": "Python 3 (ipykernel)",
   "language": "python",
   "name": "python3"
  },
  "language_info": {
   "codemirror_mode": {
    "name": "ipython",
    "version": 3
   },
   "file_extension": ".py",
   "mimetype": "text/x-python",
   "name": "python",
   "nbconvert_exporter": "python",
   "pygments_lexer": "ipython3",
   "version": "3.10.14"
  }
 },
 "nbformat": 4,
 "nbformat_minor": 5
}
