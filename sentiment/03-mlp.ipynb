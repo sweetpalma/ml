{
 "cells": [
  {
   "cell_type": "markdown",
   "id": "ea89a828-5952-4e48-9a25-a9887d61e093",
   "metadata": {},
   "source": [
    "# Multilayer Perceptron\n",
    "\n",
    "Previously, [we tried](./02-logistic-regression-word2vec.ipynb) using word embeddings to improve our sentiment classification, but instead of a better score, we got a worse result. That happened because our existing architecture (logistic regression) was unfit for a new vectorization (seemingly much better) approach. But what if we change the architecture itself?\n",
    "\n",
    "That gives us a nice opportunity to try a different paradigm called **deep learning** - a branch of machine learning and artificial intelligence that uses artificial neural networks to process data and learn patterns. These networks, inspired by the structure of the human brain, are built with multiple layers of interconnected **neurons** that allow them to identify complex relationships and make predictions. "
   ]
  },
  {
   "cell_type": "markdown",
   "id": "061541cc-7fc4-4164-bb8e-cfb52f0b8400",
   "metadata": {},
   "source": [
    "##  Data Preparation"
   ]
  },
  {
   "cell_type": "code",
   "execution_count": 1,
   "id": "dd252990-aeb4-4608-a977-b7b20ca08cdd",
   "metadata": {},
   "outputs": [
    {
     "name": "stderr",
     "output_type": "stream",
     "text": [
      "/opt/homebrew/Caskroom/miniconda/base/envs/ml/lib/python3.10/site-packages/tqdm/auto.py:21: TqdmWarning: IProgress not found. Please update jupyter and ipywidgets. See https://ipywidgets.readthedocs.io/en/stable/user_install.html\n",
      "  from .autonotebook import tqdm as notebook_tqdm\n"
     ]
    },
    {
     "data": {
      "text/html": [
       "<div>\n",
       "<style scoped>\n",
       "    .dataframe tbody tr th:only-of-type {\n",
       "        vertical-align: middle;\n",
       "    }\n",
       "\n",
       "    .dataframe tbody tr th {\n",
       "        vertical-align: top;\n",
       "    }\n",
       "\n",
       "    .dataframe thead th {\n",
       "        text-align: right;\n",
       "    }\n",
       "</style>\n",
       "<table border=\"1\" class=\"dataframe\">\n",
       "  <thead>\n",
       "    <tr style=\"text-align: right;\">\n",
       "      <th></th>\n",
       "      <th>text</th>\n",
       "      <th>label</th>\n",
       "    </tr>\n",
       "  </thead>\n",
       "  <tbody>\n",
       "    <tr>\n",
       "      <th>0</th>\n",
       "      <td>After the SuperFriends and Scooby Doo left the...</td>\n",
       "      <td>1</td>\n",
       "    </tr>\n",
       "    <tr>\n",
       "      <th>1</th>\n",
       "      <td>good job.that's how i would describe this anim...</td>\n",
       "      <td>1</td>\n",
       "    </tr>\n",
       "    <tr>\n",
       "      <th>2</th>\n",
       "      <td>Michael Cacoyannis has had a relatively long c...</td>\n",
       "      <td>1</td>\n",
       "    </tr>\n",
       "    <tr>\n",
       "      <th>3</th>\n",
       "      <td>I've just seen this film in a lovely air-condi...</td>\n",
       "      <td>0</td>\n",
       "    </tr>\n",
       "    <tr>\n",
       "      <th>4</th>\n",
       "      <td>My one-line summary hints that this is not a g...</td>\n",
       "      <td>1</td>\n",
       "    </tr>\n",
       "    <tr>\n",
       "      <th>...</th>\n",
       "      <td>...</td>\n",
       "      <td>...</td>\n",
       "    </tr>\n",
       "    <tr>\n",
       "      <th>39995</th>\n",
       "      <td>***SPOILERS*** ***SPOILERS*** After two so-so ...</td>\n",
       "      <td>1</td>\n",
       "    </tr>\n",
       "    <tr>\n",
       "      <th>39996</th>\n",
       "      <td>Way back in 1967, a certain director had no id...</td>\n",
       "      <td>0</td>\n",
       "    </tr>\n",
       "    <tr>\n",
       "      <th>39997</th>\n",
       "      <td>I saw this movie with my dad. I must have been...</td>\n",
       "      <td>1</td>\n",
       "    </tr>\n",
       "    <tr>\n",
       "      <th>39998</th>\n",
       "      <td>During my teens or should I say prime time I w...</td>\n",
       "      <td>1</td>\n",
       "    </tr>\n",
       "    <tr>\n",
       "      <th>39999</th>\n",
       "      <td>Paranoid Park is about Alex, a 16 year old ska...</td>\n",
       "      <td>0</td>\n",
       "    </tr>\n",
       "  </tbody>\n",
       "</table>\n",
       "<p>40000 rows × 2 columns</p>\n",
       "</div>"
      ],
      "text/plain": [
       "                                                    text  label\n",
       "0      After the SuperFriends and Scooby Doo left the...      1\n",
       "1      good job.that's how i would describe this anim...      1\n",
       "2      Michael Cacoyannis has had a relatively long c...      1\n",
       "3      I've just seen this film in a lovely air-condi...      0\n",
       "4      My one-line summary hints that this is not a g...      1\n",
       "...                                                  ...    ...\n",
       "39995  ***SPOILERS*** ***SPOILERS*** After two so-so ...      1\n",
       "39996  Way back in 1967, a certain director had no id...      0\n",
       "39997  I saw this movie with my dad. I must have been...      1\n",
       "39998  During my teens or should I say prime time I w...      1\n",
       "39999  Paranoid Park is about Alex, a 16 year old ska...      0\n",
       "\n",
       "[40000 rows x 2 columns]"
      ]
     },
     "metadata": {},
     "output_type": "display_data"
    }
   ],
   "source": [
    "from datasets import load_dataset\n",
    "ds = load_dataset('stanfordnlp/imdb', split='train+test')\n",
    "train, test = ds.train_test_split(test_size=0.2, seed=0).values()\n",
    "display(train.to_pandas())\n",
    "\n",
    "x_train = train['text']\n",
    "y_train = train['label']\n",
    "x_test = test['text']\n",
    "y_test = test['label']"
   ]
  },
  {
   "cell_type": "markdown",
   "id": "bd019db4-9c0b-4987-a150-e297aa2e469b",
   "metadata": {},
   "source": [
    "Our vectorization routine remains exactly the same. We are doing this to see how the change in *approach* affects the final result without touching any preparational routines."
   ]
  },
  {
   "cell_type": "code",
   "execution_count": 2,
   "id": "8b6e5a89-a45d-486c-9e5d-666c410d8329",
   "metadata": {
    "editable": true,
    "slideshow": {
     "slide_type": ""
    },
    "tags": [
     "hide-output"
    ]
   },
   "outputs": [
    {
     "name": "stderr",
     "output_type": "stream",
     "text": [
      "Fetching 4 files: 100%|██████████████████████████████████████████████████| 4/4 [00:00<00:00, 39107.73it/s]\n"
     ]
    }
   ],
   "source": [
    "import numpy as np\n",
    "from gensim.models import KeyedVectors\n",
    "from gensim.utils import simple_preprocess\n",
    "from huggingface_hub import snapshot_download\n",
    "from os import path\n",
    "\n",
    "model_path = path.join(snapshot_download('fse/word2vec-google-news-300'), 'word2vec-google-news-300.model')\n",
    "wv = KeyedVectors.load(model_path)\n",
    "\n",
    "def vectorize(text):\n",
    "    tokens = simple_preprocess(text.lower(), deacc=True)\n",
    "    token_vectors = [wv.get_vector(x) for x in tokens if x in wv]\n",
    "    if token_vectors:\n",
    "        return np.mean(token_vectors, axis=0)\n",
    "    else:\n",
    "        return np.zeros(wv.vector_size)"
   ]
  },
  {
   "cell_type": "markdown",
   "id": "6956af37-e711-4b85-b198-45fa047707a5",
   "metadata": {},
   "source": [
    "## Data Encoding\n",
    "\n",
    "Before we proceed further, we need to transform our data. That happens because neural networks do not work with textual information *directly* - instead, we need to encode our data, turning them into some kind of mathematical representation."
   ]
  },
  {
   "cell_type": "code",
   "execution_count": 3,
   "id": "fdcf4e95-e505-4ca1-92f5-762739dc61a9",
   "metadata": {},
   "outputs": [],
   "source": [
    "x_train = np.array([vectorize(seq) for seq in x_train])\n",
    "x_test = np.array([vectorize(seq) for seq in x_test])"
   ]
  },
  {
   "cell_type": "markdown",
   "id": "13b96378-9634-419e-b8e9-380ed1495e5f",
   "metadata": {},
   "source": [
    "Labels need to be encoded to. To do this, we may utilise a technique called **one-hot encoding** - it encodes each category as a binary vector where only one element is **hot** (1) and all others are **cold** (0)."
   ]
  },
  {
   "cell_type": "code",
   "execution_count": 4,
   "id": "4b10d854-699d-46a7-87ae-22469c6dfe34",
   "metadata": {},
   "outputs": [
    {
     "data": {
      "text/plain": [
       "array([[0., 1.],\n",
       "       [0., 1.],\n",
       "       [0., 1.],\n",
       "       ...,\n",
       "       [0., 1.],\n",
       "       [0., 1.],\n",
       "       [1., 0.]])"
      ]
     },
     "metadata": {},
     "output_type": "display_data"
    }
   ],
   "source": [
    "from keras.utils import to_categorical\n",
    "y_train = to_categorical(y_train, num_classes=len(ds.features['label'].names))\n",
    "y_test = to_categorical(y_test, num_classes=len(ds.features['label'].names))\n",
    "display(y_train)"
   ]
  },
  {
   "cell_type": "markdown",
   "id": "88b1b3fe-5606-4c19-921a-612cf04099b2",
   "metadata": {},
   "source": [
    "## Building and Training the Model\n",
    "\n",
    "Now, let's design our model structure. This time, we will use a thing called **multilayer perceptron**. As its name states, it is a neural network that consists of multiple **layers** of neurons - allowing one to learn complex, non-linear relationships in data (unlike linear regression classifier).\n",
    "\n",
    "For this task, we will use three types of layers:\n",
    "\n",
    "- **Input**: Transforms our source data and passes it next.\n",
    "- **Dense**: Layer of densely connected neurons (each neuron is connected to all other neurons of the neighboring layers).\n",
    "- **Dropuput**: Special normalization layer that helps against overfitting by randomly disabling parts of the previous layer during the training process.\n",
    "\n",
    "We may experiment with number of hidden layers and dropout rates - those are, in fact, hyperplanar parameters that may be tuned. Stack more layers meme, you know."
   ]
  },
  {
   "cell_type": "code",
   "execution_count": 5,
   "id": "131ab126-1711-41ef-82c2-44baa392baa5",
   "metadata": {
    "editable": true,
    "slideshow": {
     "slide_type": ""
    },
    "tags": []
   },
   "outputs": [
    {
     "name": "stderr",
     "output_type": "stream",
     "text": [
      "WARNING:2025-06-17 23:18:43,938:jax._src.xla_bridge:1018: Platform 'METAL' is experimental and not all JAX functionality may be correctly supported!\n",
      "WARNING: All log messages before absl::InitializeLog() is called are written to STDERR\n",
      "W0000 00:00:1750195123.939046 34041439 mps_client.cc:510] WARNING: JAX Apple GPU support is experimental and not all JAX functionality is correctly supported!\n",
      "I0000 00:00:1750195123.963507 34041439 service.cc:145] XLA service 0x600002d7e500 initialized for platform METAL (this does not guarantee that XLA will be used). Devices:\n",
      "I0000 00:00:1750195123.963653 34041439 service.cc:153]   StreamExecutor device (0): Metal, <undefined>\n",
      "I0000 00:00:1750195123.965406 34041439 mps_client.cc:406] Using Simple allocator.\n",
      "I0000 00:00:1750195123.965420 34041439 mps_client.cc:384] XLA backend will use up to 11452858368 bytes on device 0 for SimpleAllocator.\n"
     ]
    },
    {
     "name": "stdout",
     "output_type": "stream",
     "text": [
      "Metal device set to: Apple M2\n",
      "\n",
      "systemMemory: 16.00 GB\n",
      "maxCacheSize: 5.33 GB\n",
      "\n"
     ]
    },
    {
     "data": {
      "text/html": [
       "<pre style=\"white-space:pre;overflow-x:auto;line-height:normal;font-family:Menlo,'DejaVu Sans Mono',consolas,'Courier New',monospace\"><span style=\"font-weight: bold\">Model: \"sequential\"</span>\n",
       "</pre>\n"
      ],
      "text/plain": [
       "\u001b[1mModel: \"sequential\"\u001b[0m\n"
      ]
     },
     "metadata": {},
     "output_type": "display_data"
    },
    {
     "data": {
      "text/html": [
       "<pre style=\"white-space:pre;overflow-x:auto;line-height:normal;font-family:Menlo,'DejaVu Sans Mono',consolas,'Courier New',monospace\">┏━━━━━━━━━━━━━━━━━━━━━━━━━━━━━━━━━┳━━━━━━━━━━━━━━━━━━━━━━━━┳━━━━━━━━━━━━━━━┓\n",
       "┃<span style=\"font-weight: bold\"> Layer (type)                    </span>┃<span style=\"font-weight: bold\"> Output Shape           </span>┃<span style=\"font-weight: bold\">       Param # </span>┃\n",
       "┡━━━━━━━━━━━━━━━━━━━━━━━━━━━━━━━━━╇━━━━━━━━━━━━━━━━━━━━━━━━╇━━━━━━━━━━━━━━━┩\n",
       "│ dense (<span style=\"color: #0087ff; text-decoration-color: #0087ff\">Dense</span>)                   │ (<span style=\"color: #00d7ff; text-decoration-color: #00d7ff\">None</span>, <span style=\"color: #00af00; text-decoration-color: #00af00\">256</span>)            │        <span style=\"color: #00af00; text-decoration-color: #00af00\">77,056</span> │\n",
       "├─────────────────────────────────┼────────────────────────┼───────────────┤\n",
       "│ dropout (<span style=\"color: #0087ff; text-decoration-color: #0087ff\">Dropout</span>)               │ (<span style=\"color: #00d7ff; text-decoration-color: #00d7ff\">None</span>, <span style=\"color: #00af00; text-decoration-color: #00af00\">256</span>)            │             <span style=\"color: #00af00; text-decoration-color: #00af00\">0</span> │\n",
       "├─────────────────────────────────┼────────────────────────┼───────────────┤\n",
       "│ dense_1 (<span style=\"color: #0087ff; text-decoration-color: #0087ff\">Dense</span>)                 │ (<span style=\"color: #00d7ff; text-decoration-color: #00d7ff\">None</span>, <span style=\"color: #00af00; text-decoration-color: #00af00\">256</span>)            │        <span style=\"color: #00af00; text-decoration-color: #00af00\">65,792</span> │\n",
       "├─────────────────────────────────┼────────────────────────┼───────────────┤\n",
       "│ dropout_1 (<span style=\"color: #0087ff; text-decoration-color: #0087ff\">Dropout</span>)             │ (<span style=\"color: #00d7ff; text-decoration-color: #00d7ff\">None</span>, <span style=\"color: #00af00; text-decoration-color: #00af00\">256</span>)            │             <span style=\"color: #00af00; text-decoration-color: #00af00\">0</span> │\n",
       "├─────────────────────────────────┼────────────────────────┼───────────────┤\n",
       "│ dense_2 (<span style=\"color: #0087ff; text-decoration-color: #0087ff\">Dense</span>)                 │ (<span style=\"color: #00d7ff; text-decoration-color: #00d7ff\">None</span>, <span style=\"color: #00af00; text-decoration-color: #00af00\">256</span>)            │        <span style=\"color: #00af00; text-decoration-color: #00af00\">65,792</span> │\n",
       "├─────────────────────────────────┼────────────────────────┼───────────────┤\n",
       "│ dropout_2 (<span style=\"color: #0087ff; text-decoration-color: #0087ff\">Dropout</span>)             │ (<span style=\"color: #00d7ff; text-decoration-color: #00d7ff\">None</span>, <span style=\"color: #00af00; text-decoration-color: #00af00\">256</span>)            │             <span style=\"color: #00af00; text-decoration-color: #00af00\">0</span> │\n",
       "├─────────────────────────────────┼────────────────────────┼───────────────┤\n",
       "│ dense_3 (<span style=\"color: #0087ff; text-decoration-color: #0087ff\">Dense</span>)                 │ (<span style=\"color: #00d7ff; text-decoration-color: #00d7ff\">None</span>, <span style=\"color: #00af00; text-decoration-color: #00af00\">2</span>)              │           <span style=\"color: #00af00; text-decoration-color: #00af00\">514</span> │\n",
       "└─────────────────────────────────┴────────────────────────┴───────────────┘\n",
       "</pre>\n"
      ],
      "text/plain": [
       "┏━━━━━━━━━━━━━━━━━━━━━━━━━━━━━━━━━┳━━━━━━━━━━━━━━━━━━━━━━━━┳━━━━━━━━━━━━━━━┓\n",
       "┃\u001b[1m \u001b[0m\u001b[1mLayer (type)                   \u001b[0m\u001b[1m \u001b[0m┃\u001b[1m \u001b[0m\u001b[1mOutput Shape          \u001b[0m\u001b[1m \u001b[0m┃\u001b[1m \u001b[0m\u001b[1m      Param #\u001b[0m\u001b[1m \u001b[0m┃\n",
       "┡━━━━━━━━━━━━━━━━━━━━━━━━━━━━━━━━━╇━━━━━━━━━━━━━━━━━━━━━━━━╇━━━━━━━━━━━━━━━┩\n",
       "│ dense (\u001b[38;5;33mDense\u001b[0m)                   │ (\u001b[38;5;45mNone\u001b[0m, \u001b[38;5;34m256\u001b[0m)            │        \u001b[38;5;34m77,056\u001b[0m │\n",
       "├─────────────────────────────────┼────────────────────────┼───────────────┤\n",
       "│ dropout (\u001b[38;5;33mDropout\u001b[0m)               │ (\u001b[38;5;45mNone\u001b[0m, \u001b[38;5;34m256\u001b[0m)            │             \u001b[38;5;34m0\u001b[0m │\n",
       "├─────────────────────────────────┼────────────────────────┼───────────────┤\n",
       "│ dense_1 (\u001b[38;5;33mDense\u001b[0m)                 │ (\u001b[38;5;45mNone\u001b[0m, \u001b[38;5;34m256\u001b[0m)            │        \u001b[38;5;34m65,792\u001b[0m │\n",
       "├─────────────────────────────────┼────────────────────────┼───────────────┤\n",
       "│ dropout_1 (\u001b[38;5;33mDropout\u001b[0m)             │ (\u001b[38;5;45mNone\u001b[0m, \u001b[38;5;34m256\u001b[0m)            │             \u001b[38;5;34m0\u001b[0m │\n",
       "├─────────────────────────────────┼────────────────────────┼───────────────┤\n",
       "│ dense_2 (\u001b[38;5;33mDense\u001b[0m)                 │ (\u001b[38;5;45mNone\u001b[0m, \u001b[38;5;34m256\u001b[0m)            │        \u001b[38;5;34m65,792\u001b[0m │\n",
       "├─────────────────────────────────┼────────────────────────┼───────────────┤\n",
       "│ dropout_2 (\u001b[38;5;33mDropout\u001b[0m)             │ (\u001b[38;5;45mNone\u001b[0m, \u001b[38;5;34m256\u001b[0m)            │             \u001b[38;5;34m0\u001b[0m │\n",
       "├─────────────────────────────────┼────────────────────────┼───────────────┤\n",
       "│ dense_3 (\u001b[38;5;33mDense\u001b[0m)                 │ (\u001b[38;5;45mNone\u001b[0m, \u001b[38;5;34m2\u001b[0m)              │           \u001b[38;5;34m514\u001b[0m │\n",
       "└─────────────────────────────────┴────────────────────────┴───────────────┘\n"
      ]
     },
     "metadata": {},
     "output_type": "display_data"
    },
    {
     "data": {
      "text/html": [
       "<pre style=\"white-space:pre;overflow-x:auto;line-height:normal;font-family:Menlo,'DejaVu Sans Mono',consolas,'Courier New',monospace\"><span style=\"font-weight: bold\"> Total params: </span><span style=\"color: #00af00; text-decoration-color: #00af00\">209,154</span> (817.01 KB)\n",
       "</pre>\n"
      ],
      "text/plain": [
       "\u001b[1m Total params: \u001b[0m\u001b[38;5;34m209,154\u001b[0m (817.01 KB)\n"
      ]
     },
     "metadata": {},
     "output_type": "display_data"
    },
    {
     "data": {
      "text/html": [
       "<pre style=\"white-space:pre;overflow-x:auto;line-height:normal;font-family:Menlo,'DejaVu Sans Mono',consolas,'Courier New',monospace\"><span style=\"font-weight: bold\"> Trainable params: </span><span style=\"color: #00af00; text-decoration-color: #00af00\">209,154</span> (817.01 KB)\n",
       "</pre>\n"
      ],
      "text/plain": [
       "\u001b[1m Trainable params: \u001b[0m\u001b[38;5;34m209,154\u001b[0m (817.01 KB)\n"
      ]
     },
     "metadata": {},
     "output_type": "display_data"
    },
    {
     "data": {
      "text/html": [
       "<pre style=\"white-space:pre;overflow-x:auto;line-height:normal;font-family:Menlo,'DejaVu Sans Mono',consolas,'Courier New',monospace\"><span style=\"font-weight: bold\"> Non-trainable params: </span><span style=\"color: #00af00; text-decoration-color: #00af00\">0</span> (0.00 B)\n",
       "</pre>\n"
      ],
      "text/plain": [
       "\u001b[1m Non-trainable params: \u001b[0m\u001b[38;5;34m0\u001b[0m (0.00 B)\n"
      ]
     },
     "metadata": {},
     "output_type": "display_data"
    },
    {
     "data": {
      "text/plain": [
       "None"
      ]
     },
     "metadata": {},
     "output_type": "display_data"
    }
   ],
   "source": [
    "from keras.utils import set_random_seed\n",
    "from keras import layers, Sequential\n",
    "\n",
    "num_classes = len(ds.features['label'].names)\n",
    "set_random_seed(0)\n",
    "\n",
    "model = Sequential([\n",
    "    layers.Input(shape=(wv.vector_size,)),\n",
    "    layers.Dense(256, activation='relu'),\n",
    "    layers.Dropout(0.50),\n",
    "    layers.Dense(256, activation='relu'),\n",
    "    layers.Dropout(0.35),\n",
    "    layers.Dense(256, activation='relu'),\n",
    "    layers.Dropout(0.25),\n",
    "    layers.Dense(num_classes, activation='softmax')\n",
    "])\n",
    "\n",
    "display(model.summary())"
   ]
  },
  {
   "cell_type": "markdown",
   "id": "31137704-52a1-43f6-a6df-a3cd7462451f",
   "metadata": {},
   "source": [
    "We can compile and train our model now. Sticking to the CPU may be a good idea for now - using GPU for such a small model may actually slow down the training process due to a huge data transfer overhead."
   ]
  },
  {
   "cell_type": "code",
   "execution_count": 6,
   "id": "469df364-c6d0-4a8f-90d7-90eeea7691cd",
   "metadata": {
    "scrolled": true,
    "tags": [
     "hide-output"
    ]
   },
   "outputs": [
    {
     "name": "stdout",
     "output_type": "stream",
     "text": [
      "Epoch 1/75\n"
     ]
    },
    {
     "name": "stderr",
     "output_type": "stream",
     "text": [
      "/opt/homebrew/Caskroom/miniconda/base/envs/ml/lib/python3.10/site-packages/jax/_src/interpreters/mlir.py:1153: UserWarning: Some donated buffers were not usable: ShapedArray(float32[300,256]), ShapedArray(float32[256]), ShapedArray(float32[256,256]), ShapedArray(float32[256]), ShapedArray(float32[256,256]), ShapedArray(float32[256]), ShapedArray(float32[256,2]), ShapedArray(float32[2]), ShapedArray(uint32[2]), ShapedArray(uint32[2]), ShapedArray(uint32[2]), ShapedArray(int32[]), ShapedArray(float32[]), ShapedArray(float32[300,256]), ShapedArray(float32[300,256]), ShapedArray(float32[256]), ShapedArray(float32[256]), ShapedArray(float32[256,256]), ShapedArray(float32[256,256]), ShapedArray(float32[256]), ShapedArray(float32[256]), ShapedArray(float32[256,256]), ShapedArray(float32[256,256]), ShapedArray(float32[256]), ShapedArray(float32[256]), ShapedArray(float32[256,2]), ShapedArray(float32[256,2]), ShapedArray(float32[2]), ShapedArray(float32[2]), ShapedArray(float32[]), ShapedArray(float32[]), ShapedArray(float32[]), ShapedArray(float32[]).\n",
      "Donation is not implemented for ('METAL',).\n",
      "See an explanation at https://jax.readthedocs.io/en/latest/faq.html#buffer-donation.\n",
      "  warnings.warn(\"Some donated buffers were not usable:\"\n"
     ]
    },
    {
     "name": "stdout",
     "output_type": "stream",
     "text": [
      "\u001b[1m494/500\u001b[0m \u001b[32m━━━━━━━━━━━━━━━━━━━\u001b[0m\u001b[37m━\u001b[0m \u001b[1m0s\u001b[0m 3ms/step - accuracy: 0.7175 - loss: 0.5274"
     ]
    },
    {
     "name": "stderr",
     "output_type": "stream",
     "text": [
      "/opt/homebrew/Caskroom/miniconda/base/envs/ml/lib/python3.10/site-packages/jax/_src/interpreters/mlir.py:1153: UserWarning: Some donated buffers were not usable: ShapedArray(float32[300,256]), ShapedArray(float32[256]), ShapedArray(float32[256,256]), ShapedArray(float32[256]), ShapedArray(float32[256,256]), ShapedArray(float32[256]), ShapedArray(float32[256,2]), ShapedArray(float32[2]), ShapedArray(uint32[2]), ShapedArray(uint32[2]), ShapedArray(uint32[2]), ShapedArray(float32[]), ShapedArray(float32[]), ShapedArray(float32[]), ShapedArray(float32[]).\n",
      "Donation is not implemented for ('METAL',).\n",
      "See an explanation at https://jax.readthedocs.io/en/latest/faq.html#buffer-donation.\n",
      "  warnings.warn(\"Some donated buffers were not usable:\"\n"
     ]
    },
    {
     "name": "stdout",
     "output_type": "stream",
     "text": [
      "\u001b[1m500/500\u001b[0m \u001b[32m━━━━━━━━━━━━━━━━━━━━\u001b[0m\u001b[37m\u001b[0m \u001b[1m5s\u001b[0m 5ms/step - accuracy: 0.7185 - loss: 0.5263 - val_accuracy: 0.8311 - val_loss: 0.3843\n",
      "Epoch 2/75\n",
      "\u001b[1m500/500\u001b[0m \u001b[32m━━━━━━━━━━━━━━━━━━━━\u001b[0m\u001b[37m\u001b[0m \u001b[1m2s\u001b[0m 3ms/step - accuracy: 0.8317 - loss: 0.3843 - val_accuracy: 0.8474 - val_loss: 0.3561\n",
      "Epoch 3/75\n",
      "\u001b[1m500/500\u001b[0m \u001b[32m━━━━━━━━━━━━━━━━━━━━\u001b[0m\u001b[37m\u001b[0m \u001b[1m2s\u001b[0m 3ms/step - accuracy: 0.8393 - loss: 0.3722 - val_accuracy: 0.8450 - val_loss: 0.3533\n",
      "Epoch 4/75\n",
      "\u001b[1m500/500\u001b[0m \u001b[32m━━━━━━━━━━━━━━━━━━━━\u001b[0m\u001b[37m\u001b[0m \u001b[1m2s\u001b[0m 3ms/step - accuracy: 0.8417 - loss: 0.3626 - val_accuracy: 0.8555 - val_loss: 0.3426\n",
      "Epoch 5/75\n",
      "\u001b[1m500/500\u001b[0m \u001b[32m━━━━━━━━━━━━━━━━━━━━\u001b[0m\u001b[37m\u001b[0m \u001b[1m2s\u001b[0m 3ms/step - accuracy: 0.8416 - loss: 0.3625 - val_accuracy: 0.8421 - val_loss: 0.3551\n",
      "Epoch 6/75\n",
      "\u001b[1m500/500\u001b[0m \u001b[32m━━━━━━━━━━━━━━━━━━━━\u001b[0m\u001b[37m\u001b[0m \u001b[1m2s\u001b[0m 3ms/step - accuracy: 0.8490 - loss: 0.3531 - val_accuracy: 0.8590 - val_loss: 0.3435\n",
      "Epoch 7/75\n",
      "\u001b[1m500/500\u001b[0m \u001b[32m━━━━━━━━━━━━━━━━━━━━\u001b[0m\u001b[37m\u001b[0m \u001b[1m2s\u001b[0m 3ms/step - accuracy: 0.8480 - loss: 0.3539 - val_accuracy: 0.8394 - val_loss: 0.3579\n",
      "Epoch 8/75\n",
      "\u001b[1m500/500\u001b[0m \u001b[32m━━━━━━━━━━━━━━━━━━━━\u001b[0m\u001b[37m\u001b[0m \u001b[1m2s\u001b[0m 3ms/step - accuracy: 0.8509 - loss: 0.3518 - val_accuracy: 0.8468 - val_loss: 0.3625\n",
      "Epoch 9/75\n",
      "\u001b[1m500/500\u001b[0m \u001b[32m━━━━━━━━━━━━━━━━━━━━\u001b[0m\u001b[37m\u001b[0m \u001b[1m2s\u001b[0m 3ms/step - accuracy: 0.8479 - loss: 0.3491 - val_accuracy: 0.8609 - val_loss: 0.3321\n",
      "Epoch 10/75\n",
      "\u001b[1m500/500\u001b[0m \u001b[32m━━━━━━━━━━━━━━━━━━━━\u001b[0m\u001b[37m\u001b[0m \u001b[1m2s\u001b[0m 3ms/step - accuracy: 0.8509 - loss: 0.3506 - val_accuracy: 0.8587 - val_loss: 0.3355\n",
      "Epoch 11/75\n",
      "\u001b[1m500/500\u001b[0m \u001b[32m━━━━━━━━━━━━━━━━━━━━\u001b[0m\u001b[37m\u001b[0m \u001b[1m2s\u001b[0m 3ms/step - accuracy: 0.8510 - loss: 0.3496 - val_accuracy: 0.8600 - val_loss: 0.3345\n",
      "Epoch 12/75\n",
      "\u001b[1m500/500\u001b[0m \u001b[32m━━━━━━━━━━━━━━━━━━━━\u001b[0m\u001b[37m\u001b[0m \u001b[1m2s\u001b[0m 3ms/step - accuracy: 0.8516 - loss: 0.3468 - val_accuracy: 0.8601 - val_loss: 0.3333\n",
      "Epoch 13/75\n",
      "\u001b[1m500/500\u001b[0m \u001b[32m━━━━━━━━━━━━━━━━━━━━\u001b[0m\u001b[37m\u001b[0m \u001b[1m2s\u001b[0m 4ms/step - accuracy: 0.8566 - loss: 0.3422 - val_accuracy: 0.8559 - val_loss: 0.3355\n",
      "Epoch 14/75\n",
      "\u001b[1m500/500\u001b[0m \u001b[32m━━━━━━━━━━━━━━━━━━━━\u001b[0m\u001b[37m\u001b[0m \u001b[1m2s\u001b[0m 3ms/step - accuracy: 0.8541 - loss: 0.3441 - val_accuracy: 0.8583 - val_loss: 0.3335\n",
      "Epoch 15/75\n",
      "\u001b[1m500/500\u001b[0m \u001b[32m━━━━━━━━━━━━━━━━━━━━\u001b[0m\u001b[37m\u001b[0m \u001b[1m2s\u001b[0m 3ms/step - accuracy: 0.8587 - loss: 0.3365 - val_accuracy: 0.8627 - val_loss: 0.3304\n",
      "Epoch 16/75\n",
      "\u001b[1m500/500\u001b[0m \u001b[32m━━━━━━━━━━━━━━━━━━━━\u001b[0m\u001b[37m\u001b[0m \u001b[1m2s\u001b[0m 3ms/step - accuracy: 0.8560 - loss: 0.3406 - val_accuracy: 0.8611 - val_loss: 0.3307\n",
      "Epoch 17/75\n",
      "\u001b[1m500/500\u001b[0m \u001b[32m━━━━━━━━━━━━━━━━━━━━\u001b[0m\u001b[37m\u001b[0m \u001b[1m2s\u001b[0m 3ms/step - accuracy: 0.8560 - loss: 0.3364 - val_accuracy: 0.8585 - val_loss: 0.3299\n",
      "Epoch 18/75\n",
      "\u001b[1m500/500\u001b[0m \u001b[32m━━━━━━━━━━━━━━━━━━━━\u001b[0m\u001b[37m\u001b[0m \u001b[1m2s\u001b[0m 3ms/step - accuracy: 0.8552 - loss: 0.3354 - val_accuracy: 0.8495 - val_loss: 0.3508\n",
      "Epoch 19/75\n",
      "\u001b[1m500/500\u001b[0m \u001b[32m━━━━━━━━━━━━━━━━━━━━\u001b[0m\u001b[37m\u001b[0m \u001b[1m2s\u001b[0m 3ms/step - accuracy: 0.8577 - loss: 0.3372 - val_accuracy: 0.8618 - val_loss: 0.3329\n",
      "Epoch 20/75\n",
      "\u001b[1m500/500\u001b[0m \u001b[32m━━━━━━━━━━━━━━━━━━━━\u001b[0m\u001b[37m\u001b[0m \u001b[1m2s\u001b[0m 3ms/step - accuracy: 0.8584 - loss: 0.3366 - val_accuracy: 0.8631 - val_loss: 0.3280\n",
      "Epoch 21/75\n",
      "\u001b[1m500/500\u001b[0m \u001b[32m━━━━━━━━━━━━━━━━━━━━\u001b[0m\u001b[37m\u001b[0m \u001b[1m2s\u001b[0m 3ms/step - accuracy: 0.8605 - loss: 0.3302 - val_accuracy: 0.8608 - val_loss: 0.3275\n",
      "Epoch 22/75\n",
      "\u001b[1m500/500\u001b[0m \u001b[32m━━━━━━━━━━━━━━━━━━━━\u001b[0m\u001b[37m\u001b[0m \u001b[1m2s\u001b[0m 4ms/step - accuracy: 0.8579 - loss: 0.3351 - val_accuracy: 0.8515 - val_loss: 0.3377\n",
      "Epoch 23/75\n",
      "\u001b[1m500/500\u001b[0m \u001b[32m━━━━━━━━━━━━━━━━━━━━\u001b[0m\u001b[37m\u001b[0m \u001b[1m2s\u001b[0m 4ms/step - accuracy: 0.8588 - loss: 0.3297 - val_accuracy: 0.8516 - val_loss: 0.3414\n",
      "Epoch 24/75\n",
      "\u001b[1m500/500\u001b[0m \u001b[32m━━━━━━━━━━━━━━━━━━━━\u001b[0m\u001b[37m\u001b[0m \u001b[1m2s\u001b[0m 3ms/step - accuracy: 0.8594 - loss: 0.3296 - val_accuracy: 0.8609 - val_loss: 0.3324\n",
      "Epoch 25/75\n",
      "\u001b[1m500/500\u001b[0m \u001b[32m━━━━━━━━━━━━━━━━━━━━\u001b[0m\u001b[37m\u001b[0m \u001b[1m2s\u001b[0m 3ms/step - accuracy: 0.8569 - loss: 0.3362 - val_accuracy: 0.8594 - val_loss: 0.3409\n",
      "Epoch 26/75\n",
      "\u001b[1m500/500\u001b[0m \u001b[32m━━━━━━━━━━━━━━━━━━━━\u001b[0m\u001b[37m\u001b[0m \u001b[1m2s\u001b[0m 3ms/step - accuracy: 0.8560 - loss: 0.3329 - val_accuracy: 0.8596 - val_loss: 0.3309\n",
      "Epoch 27/75\n",
      "\u001b[1m500/500\u001b[0m \u001b[32m━━━━━━━━━━━━━━━━━━━━\u001b[0m\u001b[37m\u001b[0m \u001b[1m2s\u001b[0m 3ms/step - accuracy: 0.8594 - loss: 0.3289 - val_accuracy: 0.8616 - val_loss: 0.3267\n",
      "Epoch 28/75\n",
      "\u001b[1m500/500\u001b[0m \u001b[32m━━━━━━━━━━━━━━━━━━━━\u001b[0m\u001b[37m\u001b[0m \u001b[1m2s\u001b[0m 3ms/step - accuracy: 0.8582 - loss: 0.3318 - val_accuracy: 0.8671 - val_loss: 0.3251\n",
      "Epoch 29/75\n",
      "\u001b[1m500/500\u001b[0m \u001b[32m━━━━━━━━━━━━━━━━━━━━\u001b[0m\u001b[37m\u001b[0m \u001b[1m2s\u001b[0m 3ms/step - accuracy: 0.8627 - loss: 0.3310 - val_accuracy: 0.8645 - val_loss: 0.3233\n",
      "Epoch 30/75\n",
      "\u001b[1m500/500\u001b[0m \u001b[32m━━━━━━━━━━━━━━━━━━━━\u001b[0m\u001b[37m\u001b[0m \u001b[1m2s\u001b[0m 3ms/step - accuracy: 0.8596 - loss: 0.3294 - val_accuracy: 0.8634 - val_loss: 0.3256\n",
      "Epoch 31/75\n",
      "\u001b[1m500/500\u001b[0m \u001b[32m━━━━━━━━━━━━━━━━━━━━\u001b[0m\u001b[37m\u001b[0m \u001b[1m2s\u001b[0m 3ms/step - accuracy: 0.8622 - loss: 0.3224 - val_accuracy: 0.8665 - val_loss: 0.3237\n",
      "Epoch 32/75\n",
      "\u001b[1m500/500\u001b[0m \u001b[32m━━━━━━━━━━━━━━━━━━━━\u001b[0m\u001b[37m\u001b[0m \u001b[1m2s\u001b[0m 3ms/step - accuracy: 0.8636 - loss: 0.3276 - val_accuracy: 0.8615 - val_loss: 0.3266\n",
      "Epoch 33/75\n",
      "\u001b[1m500/500\u001b[0m \u001b[32m━━━━━━━━━━━━━━━━━━━━\u001b[0m\u001b[37m\u001b[0m \u001b[1m2s\u001b[0m 4ms/step - accuracy: 0.8622 - loss: 0.3251 - val_accuracy: 0.8655 - val_loss: 0.3221\n",
      "Epoch 34/75\n",
      "\u001b[1m500/500\u001b[0m \u001b[32m━━━━━━━━━━━━━━━━━━━━\u001b[0m\u001b[37m\u001b[0m \u001b[1m2s\u001b[0m 3ms/step - accuracy: 0.8622 - loss: 0.3245 - val_accuracy: 0.8583 - val_loss: 0.3316\n",
      "Epoch 35/75\n",
      "\u001b[1m500/500\u001b[0m \u001b[32m━━━━━━━━━━━━━━━━━━━━\u001b[0m\u001b[37m\u001b[0m \u001b[1m2s\u001b[0m 3ms/step - accuracy: 0.8653 - loss: 0.3186 - val_accuracy: 0.8600 - val_loss: 0.3337\n",
      "Epoch 36/75\n",
      "\u001b[1m500/500\u001b[0m \u001b[32m━━━━━━━━━━━━━━━━━━━━\u001b[0m\u001b[37m\u001b[0m \u001b[1m2s\u001b[0m 3ms/step - accuracy: 0.8658 - loss: 0.3169 - val_accuracy: 0.8645 - val_loss: 0.3223\n",
      "Epoch 37/75\n",
      "\u001b[1m500/500\u001b[0m \u001b[32m━━━━━━━━━━━━━━━━━━━━\u001b[0m\u001b[37m\u001b[0m \u001b[1m2s\u001b[0m 3ms/step - accuracy: 0.8630 - loss: 0.3212 - val_accuracy: 0.8636 - val_loss: 0.3230\n",
      "Epoch 38/75\n",
      "\u001b[1m500/500\u001b[0m \u001b[32m━━━━━━━━━━━━━━━━━━━━\u001b[0m\u001b[37m\u001b[0m \u001b[1m2s\u001b[0m 3ms/step - accuracy: 0.8661 - loss: 0.3193 - val_accuracy: 0.8610 - val_loss: 0.3208\n",
      "Epoch 39/75\n",
      "\u001b[1m500/500\u001b[0m \u001b[32m━━━━━━━━━━━━━━━━━━━━\u001b[0m\u001b[37m\u001b[0m \u001b[1m2s\u001b[0m 4ms/step - accuracy: 0.8649 - loss: 0.3234 - val_accuracy: 0.8652 - val_loss: 0.3218\n",
      "Epoch 40/75\n",
      "\u001b[1m500/500\u001b[0m \u001b[32m━━━━━━━━━━━━━━━━━━━━\u001b[0m\u001b[37m\u001b[0m \u001b[1m2s\u001b[0m 3ms/step - accuracy: 0.8610 - loss: 0.3216 - val_accuracy: 0.8637 - val_loss: 0.3256\n",
      "Epoch 41/75\n",
      "\u001b[1m500/500\u001b[0m \u001b[32m━━━━━━━━━━━━━━━━━━━━\u001b[0m\u001b[37m\u001b[0m \u001b[1m2s\u001b[0m 3ms/step - accuracy: 0.8654 - loss: 0.3193 - val_accuracy: 0.8614 - val_loss: 0.3230\n",
      "Epoch 42/75\n",
      "\u001b[1m500/500\u001b[0m \u001b[32m━━━━━━━━━━━━━━━━━━━━\u001b[0m\u001b[37m\u001b[0m \u001b[1m2s\u001b[0m 3ms/step - accuracy: 0.8636 - loss: 0.3167 - val_accuracy: 0.8661 - val_loss: 0.3192\n",
      "Epoch 43/75\n",
      "\u001b[1m500/500\u001b[0m \u001b[32m━━━━━━━━━━━━━━━━━━━━\u001b[0m\u001b[37m\u001b[0m \u001b[1m2s\u001b[0m 3ms/step - accuracy: 0.8687 - loss: 0.3115 - val_accuracy: 0.8627 - val_loss: 0.3218\n",
      "Epoch 44/75\n",
      "\u001b[1m500/500\u001b[0m \u001b[32m━━━━━━━━━━━━━━━━━━━━\u001b[0m\u001b[37m\u001b[0m \u001b[1m2s\u001b[0m 3ms/step - accuracy: 0.8700 - loss: 0.3076 - val_accuracy: 0.8622 - val_loss: 0.3233\n",
      "Epoch 45/75\n",
      "\u001b[1m500/500\u001b[0m \u001b[32m━━━━━━━━━━━━━━━━━━━━\u001b[0m\u001b[37m\u001b[0m \u001b[1m2s\u001b[0m 3ms/step - accuracy: 0.8673 - loss: 0.3125 - val_accuracy: 0.8554 - val_loss: 0.3352\n",
      "Epoch 46/75\n",
      "\u001b[1m500/500\u001b[0m \u001b[32m━━━━━━━━━━━━━━━━━━━━\u001b[0m\u001b[37m\u001b[0m \u001b[1m2s\u001b[0m 3ms/step - accuracy: 0.8710 - loss: 0.3112 - val_accuracy: 0.8656 - val_loss: 0.3244\n",
      "Epoch 47/75\n",
      "\u001b[1m500/500\u001b[0m \u001b[32m━━━━━━━━━━━━━━━━━━━━\u001b[0m\u001b[37m\u001b[0m \u001b[1m2s\u001b[0m 3ms/step - accuracy: 0.8662 - loss: 0.3144 - val_accuracy: 0.8666 - val_loss: 0.3205\n",
      "Epoch 48/75\n",
      "\u001b[1m500/500\u001b[0m \u001b[32m━━━━━━━━━━━━━━━━━━━━\u001b[0m\u001b[37m\u001b[0m \u001b[1m2s\u001b[0m 4ms/step - accuracy: 0.8690 - loss: 0.3099 - val_accuracy: 0.8495 - val_loss: 0.3467\n",
      "Epoch 49/75\n",
      "\u001b[1m500/500\u001b[0m \u001b[32m━━━━━━━━━━━━━━━━━━━━\u001b[0m\u001b[37m\u001b[0m \u001b[1m2s\u001b[0m 4ms/step - accuracy: 0.8664 - loss: 0.3153 - val_accuracy: 0.8650 - val_loss: 0.3244\n",
      "Epoch 50/75\n",
      "\u001b[1m500/500\u001b[0m \u001b[32m━━━━━━━━━━━━━━━━━━━━\u001b[0m\u001b[37m\u001b[0m \u001b[1m2s\u001b[0m 3ms/step - accuracy: 0.8668 - loss: 0.3136 - val_accuracy: 0.8579 - val_loss: 0.3302\n",
      "Epoch 51/75\n",
      "\u001b[1m500/500\u001b[0m \u001b[32m━━━━━━━━━━━━━━━━━━━━\u001b[0m\u001b[37m\u001b[0m \u001b[1m2s\u001b[0m 4ms/step - accuracy: 0.8699 - loss: 0.3057 - val_accuracy: 0.8664 - val_loss: 0.3252\n",
      "Epoch 52/75\n",
      "\u001b[1m500/500\u001b[0m \u001b[32m━━━━━━━━━━━━━━━━━━━━\u001b[0m\u001b[37m\u001b[0m \u001b[1m2s\u001b[0m 4ms/step - accuracy: 0.8715 - loss: 0.3069 - val_accuracy: 0.8625 - val_loss: 0.3205\n",
      "Epoch 53/75\n",
      "\u001b[1m500/500\u001b[0m \u001b[32m━━━━━━━━━━━━━━━━━━━━\u001b[0m\u001b[37m\u001b[0m \u001b[1m2s\u001b[0m 3ms/step - accuracy: 0.8667 - loss: 0.3134 - val_accuracy: 0.8625 - val_loss: 0.3226\n",
      "Epoch 54/75\n",
      "\u001b[1m500/500\u001b[0m \u001b[32m━━━━━━━━━━━━━━━━━━━━\u001b[0m\u001b[37m\u001b[0m \u001b[1m2s\u001b[0m 3ms/step - accuracy: 0.8691 - loss: 0.3146 - val_accuracy: 0.8681 - val_loss: 0.3179\n",
      "Epoch 55/75\n",
      "\u001b[1m500/500\u001b[0m \u001b[32m━━━━━━━━━━━━━━━━━━━━\u001b[0m\u001b[37m\u001b[0m \u001b[1m2s\u001b[0m 3ms/step - accuracy: 0.8688 - loss: 0.3112 - val_accuracy: 0.8619 - val_loss: 0.3222\n",
      "Epoch 56/75\n",
      "\u001b[1m500/500\u001b[0m \u001b[32m━━━━━━━━━━━━━━━━━━━━\u001b[0m\u001b[37m\u001b[0m \u001b[1m2s\u001b[0m 4ms/step - accuracy: 0.8690 - loss: 0.3067 - val_accuracy: 0.8579 - val_loss: 0.3300\n",
      "Epoch 57/75\n",
      "\u001b[1m500/500\u001b[0m \u001b[32m━━━━━━━━━━━━━━━━━━━━\u001b[0m\u001b[37m\u001b[0m \u001b[1m2s\u001b[0m 4ms/step - accuracy: 0.8693 - loss: 0.3075 - val_accuracy: 0.8635 - val_loss: 0.3218\n",
      "Epoch 58/75\n",
      "\u001b[1m500/500\u001b[0m \u001b[32m━━━━━━━━━━━━━━━━━━━━\u001b[0m\u001b[37m\u001b[0m \u001b[1m2s\u001b[0m 3ms/step - accuracy: 0.8709 - loss: 0.3039 - val_accuracy: 0.8651 - val_loss: 0.3255\n",
      "Epoch 59/75\n",
      "\u001b[1m500/500\u001b[0m \u001b[32m━━━━━━━━━━━━━━━━━━━━\u001b[0m\u001b[37m\u001b[0m \u001b[1m2s\u001b[0m 4ms/step - accuracy: 0.8702 - loss: 0.3083 - val_accuracy: 0.8664 - val_loss: 0.3211\n",
      "Epoch 60/75\n",
      "\u001b[1m500/500\u001b[0m \u001b[32m━━━━━━━━━━━━━━━━━━━━\u001b[0m\u001b[37m\u001b[0m \u001b[1m2s\u001b[0m 4ms/step - accuracy: 0.8704 - loss: 0.3089 - val_accuracy: 0.8644 - val_loss: 0.3236\n",
      "Epoch 61/75\n",
      "\u001b[1m500/500\u001b[0m \u001b[32m━━━━━━━━━━━━━━━━━━━━\u001b[0m\u001b[37m\u001b[0m \u001b[1m2s\u001b[0m 4ms/step - accuracy: 0.8728 - loss: 0.3040 - val_accuracy: 0.8660 - val_loss: 0.3190\n",
      "Epoch 62/75\n",
      "\u001b[1m500/500\u001b[0m \u001b[32m━━━━━━━━━━━━━━━━━━━━\u001b[0m\u001b[37m\u001b[0m \u001b[1m2s\u001b[0m 3ms/step - accuracy: 0.8690 - loss: 0.3044 - val_accuracy: 0.8633 - val_loss: 0.3212\n",
      "Epoch 63/75\n",
      "\u001b[1m500/500\u001b[0m \u001b[32m━━━━━━━━━━━━━━━━━━━━\u001b[0m\u001b[37m\u001b[0m \u001b[1m2s\u001b[0m 3ms/step - accuracy: 0.8733 - loss: 0.2989 - val_accuracy: 0.8631 - val_loss: 0.3225\n",
      "Epoch 64/75\n",
      "\u001b[1m500/500\u001b[0m \u001b[32m━━━━━━━━━━━━━━━━━━━━\u001b[0m\u001b[37m\u001b[0m \u001b[1m2s\u001b[0m 3ms/step - accuracy: 0.8695 - loss: 0.3073 - val_accuracy: 0.8654 - val_loss: 0.3208\n",
      "Epoch 65/75\n",
      "\u001b[1m500/500\u001b[0m \u001b[32m━━━━━━━━━━━━━━━━━━━━\u001b[0m\u001b[37m\u001b[0m \u001b[1m2s\u001b[0m 3ms/step - accuracy: 0.8719 - loss: 0.3031 - val_accuracy: 0.8600 - val_loss: 0.3280\n",
      "Epoch 66/75\n",
      "\u001b[1m500/500\u001b[0m \u001b[32m━━━━━━━━━━━━━━━━━━━━\u001b[0m\u001b[37m\u001b[0m \u001b[1m2s\u001b[0m 3ms/step - accuracy: 0.8749 - loss: 0.2951 - val_accuracy: 0.8556 - val_loss: 0.3301\n",
      "Epoch 67/75\n",
      "\u001b[1m500/500\u001b[0m \u001b[32m━━━━━━━━━━━━━━━━━━━━\u001b[0m\u001b[37m\u001b[0m \u001b[1m2s\u001b[0m 3ms/step - accuracy: 0.8722 - loss: 0.3024 - val_accuracy: 0.8654 - val_loss: 0.3260\n",
      "Epoch 68/75\n",
      "\u001b[1m500/500\u001b[0m \u001b[32m━━━━━━━━━━━━━━━━━━━━\u001b[0m\u001b[37m\u001b[0m \u001b[1m2s\u001b[0m 3ms/step - accuracy: 0.8747 - loss: 0.2992 - val_accuracy: 0.8637 - val_loss: 0.3221\n",
      "Epoch 69/75\n",
      "\u001b[1m500/500\u001b[0m \u001b[32m━━━━━━━━━━━━━━━━━━━━\u001b[0m\u001b[37m\u001b[0m \u001b[1m2s\u001b[0m 3ms/step - accuracy: 0.8779 - loss: 0.2952 - val_accuracy: 0.8674 - val_loss: 0.3250\n",
      "Epoch 70/75\n",
      "\u001b[1m500/500\u001b[0m \u001b[32m━━━━━━━━━━━━━━━━━━━━\u001b[0m\u001b[37m\u001b[0m \u001b[1m2s\u001b[0m 3ms/step - accuracy: 0.8720 - loss: 0.3032 - val_accuracy: 0.8671 - val_loss: 0.3204\n",
      "Epoch 71/75\n",
      "\u001b[1m500/500\u001b[0m \u001b[32m━━━━━━━━━━━━━━━━━━━━\u001b[0m\u001b[37m\u001b[0m \u001b[1m2s\u001b[0m 3ms/step - accuracy: 0.8736 - loss: 0.3023 - val_accuracy: 0.8660 - val_loss: 0.3177\n",
      "Epoch 72/75\n",
      "\u001b[1m500/500\u001b[0m \u001b[32m━━━━━━━━━━━━━━━━━━━━\u001b[0m\u001b[37m\u001b[0m \u001b[1m2s\u001b[0m 3ms/step - accuracy: 0.8780 - loss: 0.2893 - val_accuracy: 0.8631 - val_loss: 0.3326\n",
      "Epoch 73/75\n",
      "\u001b[1m500/500\u001b[0m \u001b[32m━━━━━━━━━━━━━━━━━━━━\u001b[0m\u001b[37m\u001b[0m \u001b[1m2s\u001b[0m 3ms/step - accuracy: 0.8792 - loss: 0.2910 - val_accuracy: 0.8571 - val_loss: 0.3310\n",
      "Epoch 74/75\n",
      "\u001b[1m500/500\u001b[0m \u001b[32m━━━━━━━━━━━━━━━━━━━━\u001b[0m\u001b[37m\u001b[0m \u001b[1m2s\u001b[0m 3ms/step - accuracy: 0.8775 - loss: 0.2930 - val_accuracy: 0.8644 - val_loss: 0.3224\n",
      "Epoch 75/75\n",
      "\u001b[1m500/500\u001b[0m \u001b[32m━━━━━━━━━━━━━━━━━━━━\u001b[0m\u001b[37m\u001b[0m \u001b[1m2s\u001b[0m 3ms/step - accuracy: 0.8771 - loss: 0.2924 - val_accuracy: 0.8633 - val_loss: 0.3231\n"
     ]
    }
   ],
   "source": [
    "model.compile(optimizer='adam', loss='categorical_crossentropy', metrics=['accuracy'])\n",
    "history = model.fit(x_train, y_train, epochs=75, batch_size=64, validation_split=0.2) "
   ]
  },
  {
   "cell_type": "markdown",
   "id": "05325682-fc35-4c33-a305-d9b45158e874",
   "metadata": {},
   "source": [
    "## Result"
   ]
  },
  {
   "cell_type": "code",
   "execution_count": 7,
   "id": "3deb7b76-c179-4f8b-9a4e-e27fe7fed9ae",
   "metadata": {},
   "outputs": [
    {
     "name": "stderr",
     "output_type": "stream",
     "text": [
      "/opt/homebrew/Caskroom/miniconda/base/envs/ml/lib/python3.10/site-packages/jax/_src/interpreters/mlir.py:1153: UserWarning: Some donated buffers were not usable: ShapedArray(float32[300,256]), ShapedArray(float32[256]), ShapedArray(float32[256,256]), ShapedArray(float32[256]), ShapedArray(float32[256,256]), ShapedArray(float32[256]), ShapedArray(float32[256,2]), ShapedArray(float32[2]), ShapedArray(uint32[2]), ShapedArray(uint32[2]), ShapedArray(uint32[2]).\n",
      "Donation is not implemented for ('METAL',).\n",
      "See an explanation at https://jax.readthedocs.io/en/latest/faq.html#buffer-donation.\n",
      "  warnings.warn(\"Some donated buffers were not usable:\"\n"
     ]
    },
    {
     "name": "stdout",
     "output_type": "stream",
     "text": [
      "              precision    recall  f1-score   support\n",
      "\n",
      "         neg       0.85      0.88      0.87      5025\n",
      "         pos       0.88      0.85      0.86      4975\n",
      "\n",
      "    accuracy                           0.86     10000\n",
      "   macro avg       0.87      0.86      0.86     10000\n",
      "weighted avg       0.87      0.86      0.86     10000\n",
      "\n"
     ]
    }
   ],
   "source": [
    "from sklearn.metrics import classification_report\n",
    "y_pred_probs = model.predict(x_test, verbose=False)\n",
    "y_pred_labels = np.argmax(y_pred_probs, axis=1)\n",
    "y_true_labels = np.argmax(y_test, axis=1)\n",
    "print(classification_report(y_true_labels, y_pred_labels, target_names=ds.features['label'].names))"
   ]
  },
  {
   "cell_type": "markdown",
   "id": "cf5baafd-27e0-4d35-a6a1-878d9df861e7",
   "metadata": {},
   "source": [
    "Let's take a look at the training history - it may tell us *a lot*."
   ]
  },
  {
   "cell_type": "code",
   "execution_count": 8,
   "id": "c5359d01-e84a-4fd5-9563-0122f246c1af",
   "metadata": {},
   "outputs": [
    {
     "data": {
      "image/png": "[encoded data removed]",
      "text/plain": [
       "<Figure size 450x300 with 1 Axes>"
      ]
     },
     "metadata": {},
     "output_type": "display_data"
    }
   ],
   "source": [
    "import matplotlib.pyplot as plt\n",
    "plt.figure(figsize=(4.5, 3))\n",
    "plt.plot(history.history['accuracy'], label='train')\n",
    "plt.plot(history.history['val_accuracy'], label='validation')\n",
    "plt.ylabel('accuracy')\n",
    "plt.xlabel('epoch')\n",
    "plt.legend(loc='lower right')\n",
    "plt.show()"
   ]
  },
  {
   "cell_type": "markdown",
   "id": "cb68f704-8a09-4bb4-91e0-76a1cc756c78",
   "metadata": {},
   "source": [
    "We can observe that the training accuracy steadily increases, indicating the model is continuously learning from the training data. However, the validation accuracy shows a different trend - it rises initially but then begins to plateau around epoch 50-60, stabilizing at approximately 86-87%. \n",
    "\n",
    "The widening gap between the training and validation accuracy in later epochs is a classic sign of **overfitting**, where the model becomes too specialized in the training examples, essentially memorizing them. To mitigate this, we might need more training data, or a better model architecture."
   ]
  },
  {
   "cell_type": "markdown",
   "id": "b248b77f-1121-4d7e-a8fc-77fad0c3b698",
   "metadata": {},
   "source": [
    "## Conclusion\n",
    "\n",
    "This experiment yielded an **~87%** accuracy, confirming that a deeper, non-linear model can extract more a bit more signal from these embeddings than a linear classifier. The addition of hidden layers and dropout underscores the \"stack more layers\" principle, at least to a point.\n",
    "\n",
    "While being a slight improvement, it still trails our original n-gram model. This suggests that to fully leverage semantic richness, architectures capable of processing sequences are the necessary next step."
   ]
  }
 ],
 "metadata": {
  "kernelspec": {
   "display_name": "Python 3 (ipykernel)",
   "language": "python",
   "name": "python3"
  },
  "language_info": {
   "codemirror_mode": {
    "name": "ipython",
    "version": 3
   },
   "file_extension": ".py",
   "mimetype": "text/x-python",
   "name": "python",
   "nbconvert_exporter": "python",
   "pygments_lexer": "ipython3",
   "version": "3.10.18"
  }
 },
 "nbformat": 4,
 "nbformat_minor": 5
}
