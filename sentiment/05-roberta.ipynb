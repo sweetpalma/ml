{
 "cells": [
  {
   "cell_type": "markdown",
   "id": "650e2bef-a4ee-46fa-8b4b-69a9ced7609a",
   "metadata": {},
   "source": [
    "# Transfer Learning (RoBERTa)\n",
    "\n",
    "Previously, we [successfully built an LSTM model](./04-lstm.ipynb) that used sequential information to improve the final result. Now, we take the final step in our journey by using a transformer model, the current **state-of-the-art** architecture for most natural language processing tasks."
   ]
  },
  {
   "cell_type": "markdown",
   "id": "f24dafaf-b351-48e7-9c30-40b64ae4ec4c",
   "metadata": {},
   "source": [
    "## Data Preparation"
   ]
  },
  {
   "cell_type": "code",
   "execution_count": 1,
   "id": "be41062a-f2c6-47c5-95c6-f789a49668ba",
   "metadata": {},
   "outputs": [],
   "source": [
    "from datasets import load_dataset\n",
    "import numpy as np\n",
    "\n",
    "train, test = load_dataset('stanfordnlp/imdb', split=['train', 'test'])\n",
    "class_names = train.features['label'].names\n",
    "\n",
    "x_train = np.array(train['text'])\n",
    "y_train = np.array(train['label'])\n",
    "x_test = np.array(test['text'])\n",
    "y_test = np.array(test['label'])"
   ]
  },
  {
   "cell_type": "markdown",
   "id": "ce8421dd-cffa-4716-ad1f-348a5cd95bdc",
   "metadata": {},
   "source": [
    "## Data Encoding\n",
    "\n",
    "This is where things drastically change. Unlike our previous attempt, where we managed our own vocabulary and embedding matrix, transformer models come with their own dedicated tokenizers.\n",
    "\n",
    "The tokenizer and the pre-trained model are a matched pair - the tokenizer knows the exact vocabulary and the specific rules the model was trained with. It handles tokenization automatically."
   ]
  },
  {
   "cell_type": "code",
   "execution_count": 2,
   "id": "90c891ae-5fbc-4e7c-84ee-f7ebb341a274",
   "metadata": {},
   "outputs": [],
   "source": [
    "from transformers import RobertaTokenizerFast\n",
    "tokenizer = RobertaTokenizerFast.from_pretrained('distilbert/distilroberta-base')\n",
    "tokenizer_params = {\n",
    "    'return_tensors': 'np',\n",
    "    'max_length': 284,\n",
    "    'truncation': True,\n",
    "    'padding': True,\n",
    "}"
   ]
  },
  {
   "cell_type": "markdown",
   "id": "87830267-79a0-41c1-8714-053193089102",
   "metadata": {},
   "source": [
    "We are going to pad and truncate the sequences to the same length as our previous model for the sake of consistency - though, those values could be considered hyperparameters too."
   ]
  },
  {
   "cell_type": "code",
   "execution_count": 3,
   "id": "0c960fc6-a46f-4e53-a826-f4fd9fb893d0",
   "metadata": {},
   "outputs": [],
   "source": [
    "x_train = dict(tokenizer(x_train.tolist(), **tokenizer_params))\n",
    "x_test = dict(tokenizer(x_test.tolist(), **tokenizer_params))"
   ]
  },
  {
   "cell_type": "markdown",
   "id": "921e5c0c-3597-4ae5-b5e1-895df7b98ecd",
   "metadata": {},
   "source": [
    "## Building and Training the Model\n",
    "\n",
    "Unlike LSTMs which process text sequentially one word at a time, **transformers process the entire sequence at once**. The magic ingredient is the **self-attention mechanism**. For every word in the sentence, it weighs the influence of all other words and identifies which ones are most relevant to its meaning in that specific context.\n",
    "\n",
    "Is a \"bank\" a financial institution or the side of a river? Attention helps figure this out by looking at the surrounding words. By stacking these attention layers, the model builds a rich, context-aware representation of the entire text, making it incredibly accurate.\n",
    "\n",
    "For our experiment, we are going to use the pre-trained **DistilRoBERTa** model. Don't be scared by its name - it's a **R**obustly **O**ptimized version of the original **BERT** architecture. We are going to use a **distilled** version of it - it's a bit simpler, but much faster and easier to train."
   ]
  },
  {
   "cell_type": "code",
   "execution_count": 4,
   "id": "1445e63e-3041-4d0b-b1a8-9fbf10c92cd2",
   "metadata": {},
   "outputs": [
    {
     "name": "stdout",
     "output_type": "stream",
     "text": [
      "env: TF_USE_LEGACY_KERAS=1\n"
     ]
    }
   ],
   "source": [
    "%env TF_USE_LEGACY_KERAS=1\n",
    "from transformers import TFRobertaForSequenceClassification as RobertaForSequenceClassification\n",
    "from transformers import logging, set_seed\n",
    "\n",
    "logging.set_verbosity_error()\n",
    "set_seed(0)\n",
    "\n",
    "model = RobertaForSequenceClassification.from_pretrained(\n",
    "    'distilbert/distilroberta-base', \n",
    "    num_labels=len(class_names),\n",
    ")"
   ]
  },
  {
   "cell_type": "markdown",
   "id": "2e0f6d44-8346-41e3-a1b0-49d37604da88",
   "metadata": {},
   "source": [
    "You might notice the environment variable flag being set - unfortunately, the `transformers` library still uses the old [Keras version](https://github.com/huggingface/transformers/issues/34761) for its core functionality, and we need to take that into account.\n",
    "\n",
    "Next, we need to prepare an optimization routine. We might use the transformers pipeline instead of a built-in TensorFlow toolset - mostly because they were created with fine-tuning of those models in mind."
   ]
  },
  {
   "cell_type": "code",
   "execution_count": 5,
   "id": "23119738-a2bf-41d3-bf32-8f2320b4c5e0",
   "metadata": {},
   "outputs": [],
   "source": [
    "from transformers import create_optimizer\n",
    "\n",
    "epochs = 3\n",
    "validation_split = 0.2\n",
    "batch_size = 32\n",
    "\n",
    "num_train_steps = epochs * (len(x_train['input_ids']) * (1 - validation_split) // batch_size)\n",
    "optimizer, _ = create_optimizer(\n",
    "    init_lr=0.00002,\n",
    "    weight_decay_rate=0.01,\n",
    "    num_warmup_steps=int(num_train_steps * 0.1),\n",
    "    num_train_steps=num_train_steps\n",
    ")"
   ]
  },
  {
   "cell_type": "markdown",
   "id": "ecdc169b-fe07-438d-ac60-35e5ec5fe078",
   "metadata": {
    "editable": true,
    "slideshow": {
     "slide_type": ""
    },
    "tags": []
   },
   "source": [
    "Finally, we may raise the dropout rates of our model a bit - it would potentially make it more robust and less prone to overfitting due to the small dataset size."
   ]
  },
  {
   "cell_type": "code",
   "execution_count": 6,
   "id": "fdeac0a1-a5f3-4109-b2ee-8e5bb0acc3db",
   "metadata": {},
   "outputs": [],
   "source": [
    "model.config.attention_probs_dropout_prob = 0.2\n",
    "model.config.hidden_dropout_prob = 0.2"
   ]
  },
  {
   "cell_type": "markdown",
   "id": "b3733754-50c8-4022-9057-cb74bd314dff",
   "metadata": {},
   "source": [
    "We may start training our model now."
   ]
  },
  {
   "cell_type": "code",
   "execution_count": 7,
   "id": "f0ede7e9-283d-4b8d-81ef-0f288088a126",
   "metadata": {
    "editable": true,
    "scrolled": true,
    "slideshow": {
     "slide_type": ""
    },
    "tags": [
     "hide-output"
    ]
   },
   "outputs": [
    {
     "name": "stdout",
     "output_type": "stream",
     "text": [
      "Epoch 1/3\n",
      "625/625 [==============================] - 1485s 2s/step - loss: 0.3190 - accuracy: 0.8575 - val_loss: 0.3633 - val_accuracy: 0.8434\n",
      "Epoch 2/3\n",
      "625/625 [==============================] - 1482s 2s/step - loss: 0.1819 - accuracy: 0.9291 - val_loss: 0.2942 - val_accuracy: 0.8962\n",
      "Epoch 3/3\n",
      "625/625 [==============================] - 1447s 2s/step - loss: 0.1365 - accuracy: 0.9498 - val_loss: 0.2923 - val_accuracy: 0.9022\n"
     ]
    }
   ],
   "source": [
    "from tensorflow import device\n",
    "with device('/GPU'):\n",
    "    model.compile(optimizer=optimizer, metrics=['accuracy'])\n",
    "    history = model.fit(x_train, y_train, epochs=epochs, batch_size=batch_size, validation_split=validation_split)"
   ]
  },
  {
   "cell_type": "markdown",
   "id": "0cd050b3-e4bf-4a4d-9bf1-9b13c81c329f",
   "metadata": {},
   "source": [
    "## Result"
   ]
  },
  {
   "cell_type": "code",
   "execution_count": 8,
   "id": "455bba44-283b-4090-ba38-e50a42eb0357",
   "metadata": {},
   "outputs": [
    {
     "name": "stdout",
     "output_type": "stream",
     "text": [
      "782/782 [==============================] - 479s 612ms/step\n",
      "              precision    recall  f1-score   support\n",
      "\n",
      "         neg       0.92      0.94      0.93     12500\n",
      "         pos       0.94      0.91      0.93     12500\n",
      "\n",
      "    accuracy                           0.93     25000\n",
      "   macro avg       0.93      0.93      0.93     25000\n",
      "weighted avg       0.93      0.93      0.93     25000\n",
      "\n"
     ]
    }
   ],
   "source": [
    "from sklearn.metrics import classification_report\n",
    "with device('/GPU'):\n",
    "    y_pred_values = model.predict(x_test, verbose=True).logits\n",
    "    y_pred_labels = np.argmax(y_pred_values, axis=1)\n",
    "    print(classification_report(y_test, y_pred_labels, target_names=class_names))"
   ]
  },
  {
   "cell_type": "code",
   "execution_count": 9,
   "id": "11fa607e-c073-443a-99da-0db2a913e9c5",
   "metadata": {},
   "outputs": [
    {
     "data": {
      "image/png": "[encoded data removed]",
      "text/plain": [
       "<Figure size 450x300 with 1 Axes>"
      ]
     },
     "metadata": {},
     "output_type": "display_data"
    }
   ],
   "source": [
    "import matplotlib.pyplot as plt\n",
    "plt.figure(figsize=(4.5, 3))\n",
    "plt.plot(history.history['accuracy'], label='train')\n",
    "plt.plot(history.history['val_accuracy'], label='validation')\n",
    "plt.ylabel('accuracy')\n",
    "plt.xlabel('epoch')\n",
    "plt.legend(loc='lower right')\n",
    "plt.show()"
   ]
  },
  {
   "cell_type": "markdown",
   "id": "c242ea1c-9581-44f0-bc87-18b88083e801",
   "metadata": {},
   "source": [
    "## Conclusion\n",
    "\n",
    "With a final accuracy of **93%**, this transformer-based approach has decisively outperformed all of our previous models. What's more, the validation accuracy curve tracks the training accuracy almost perfectly, indicating that our regularization strategies were effective in preventing overfitting.\n",
    "\n",
    "This leap in performance underscores the power of the self-attention mechanism in capturing complex language patterns and contextual nuances, something simpler models usually struggle with. It marks a significant milestone in our exploration, demonstrating how moving towards more sophisticated architectures can unlock a superior understanding of text."
   ]
  }
 ],
 "metadata": {
  "kernelspec": {
   "display_name": "Python 3 (ipykernel)",
   "language": "python",
   "name": "python3"
  },
  "language_info": {
   "codemirror_mode": {
    "name": "ipython",
    "version": 3
   },
   "file_extension": ".py",
   "mimetype": "text/x-python",
   "name": "python",
   "nbconvert_exporter": "python",
   "pygments_lexer": "ipython3",
   "version": "3.10.14"
  }
 },
 "nbformat": 4,
 "nbformat_minor": 5
}
